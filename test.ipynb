{
 "cells": [
  {
   "cell_type": "markdown",
   "metadata": {},
   "source": [
    "## 테스트 데이터 전처리\n"
   ]
  },
  {
   "cell_type": "code",
   "execution_count": 27,
   "metadata": {},
   "outputs": [],
   "source": [
    "#import library\n",
    "import numpy as np\n",
    "import pandas as pd\n",
    "import matplotlib.pyplot as plt"
   ]
  },
  {
   "cell_type": "code",
   "execution_count": 28,
   "metadata": {},
   "outputs": [],
   "source": [
    "df = pd.read_csv(\"test.csv\")"
   ]
  },
  {
   "cell_type": "code",
   "execution_count": 29,
   "metadata": {},
   "outputs": [],
   "source": [
    "# 국가를 대륙으로 매핑하는 딕셔너리\n",
    "country_continent_dict = {\n",
    " 'US': 'US',\n",
    " 'Cuba': 'North America',\n",
    " 'Portugal': 'Europe',\n",
    " 'Mexico': 'North America',\n",
    " 'Unknown': 'US',\n",
    " 'Puerto-Rico': 'North America',\n",
    " 'Germany': 'Europe',\n",
    " 'Japan': 'Asia',\n",
    " 'Poland': 'Europe',\n",
    " 'Columbia': 'South America',\n",
    " 'Philippines': 'Asia',\n",
    " 'Italy': 'Europe',\n",
    " 'Trinadad&Tobago': 'South America',\n",
    " 'England': 'Europe',\n",
    " 'South Korea': 'Asia',\n",
    " 'Iran': 'Asia',\n",
    " 'France': 'Europe',\n",
    " 'India': 'Asia',\n",
    " 'China': 'Asia',\n",
    " 'Dominican-Republic': 'North America',\n",
    " 'Scotland': 'Europe',\n",
    " 'Ecuador': 'South America',\n",
    " 'Nicaragua': 'North America',\n",
    " 'Peru': 'South America',\n",
    " 'Cambodia': 'Asia',\n",
    " 'Canada': 'North America',\n",
    " 'Jamaica': 'North America',\n",
    " 'Vietnam': 'Asia',\n",
    " 'Hong Kong': 'Asia',\n",
    " 'Thailand': 'Asia',\n",
    " 'Haiti': 'North America',\n",
    " 'Guatemala': 'North America',\n",
    " 'Laos': 'Asia',\n",
    " 'Yugoslavia': 'Europe',\n",
    " 'Ireland': 'Europe',\n",
    " 'El-Salvador': 'North America',\n",
    " 'Panama': 'North America',\n",
    " 'Honduras': 'North America',\n",
    " 'Greece': 'Europe',\n",
    " 'Outlying-U S (Guam USVI etc)': 'US',\n",
    " 'Hungary': 'Europe',\n",
    " 'Taiwan': 'Asia',\n",
    " 'Holand-Netherlands': 'Europe'\n",
    "}\n",
    "\n",
    "# 업데이트할 열 목록: 본인 출신국가, 엄마 출신국가, 아빠 출신국가\n",
    "columns_to_update = ['Birth_Country', 'Birth_Country (Mother)', 'Birth_Country (Father)']\n",
    "\n",
    "# 각 열에 대해 국가를 대륙으로 매핑\n",
    "for column in columns_to_update:\n",
    "    df[column] = df[column].map(country_continent_dict)\n"
   ]
  },
  {
   "cell_type": "code",
   "execution_count": 30,
   "metadata": {},
   "outputs": [],
   "source": [
    "# Remove rows where 'Age' is below 17 or above 75\n",
    "df = df[df['Age'].between(17, 75)]\n",
    "\n",
    "# Remove rows with 'Employment Status' as 'Not Working' or 'Seeking Full-Time'\n",
    "df = df[~df['Employment_Status'].isin(['Not Working', 'Seeking Full-Time'])]\n",
    "\n",
    "# Drop the 'Gains', 'Losses', 'Dividends', 'Household_Status', 'Income_Status' columns\n",
    "df.drop(['Gains', 'Losses', 'Dividends', 'Household_Status', 'Income_Status'], axis=1, inplace=True)\n",
    "\n",
    "# Map 'Gender' values from 'M' and 'F' to 0 and 1, respectively\n",
    "df['Gender'] = df['Gender'].map({'M': 0, 'F': 1})\n",
    "\n",
    "# Consolidate education levels and rename as specified\n",
    "education_map = {\n",
    "    'High graduate': 'High', 'High Senior': 'High', \n",
    "    'High Junior': 'High', 'High Sophomore': 'High',\n",
    "    'Elementary (5-6)': 'Elementary(1-6)', 'Elementary (1-4)': 'Elementary(1-6)',\n",
    "    'Kindergarten': 'Baby', 'Children': 'Baby'\n",
    "}\n",
    "df['Education_Status'] = df['Education_Status'].replace(education_map)\n"
   ]
  },
  {
   "cell_type": "code",
   "execution_count": 31,
   "metadata": {},
   "outputs": [],
   "source": [
    "columns=[\n",
    "    'Education_Status',\n",
    "    'Employment_Status',\n",
    "    'Industry_Status',\n",
    "    'Occupation_Status',\n",
    "    'Race',\n",
    "    'Hispanic_Origin',\n",
    "    'Martial_Status',\n",
    "    'Household_Summary',\n",
    "    'Citizenship',\n",
    "    'Birth_Country',\n",
    "    'Birth_Country (Father)',\n",
    "    'Birth_Country (Mother)',\n",
    "    'Tax_Status'\n",
    "]"
   ]
  },
  {
   "cell_type": "code",
   "execution_count": 24,
   "metadata": {},
   "outputs": [],
   "source": [
    "#제거코드(ID)\n",
    "#df_encoded = df_encoded.drop(columns=['ID'])"
   ]
  },
  {
   "cell_type": "code",
   "execution_count": 26,
   "metadata": {},
   "outputs": [
    {
     "ename": "KeyError",
     "evalue": "'Income'",
     "output_type": "error",
     "traceback": [
      "\u001b[0;31m---------------------------------------------------------------------------\u001b[0m",
      "\u001b[0;31mKeyError\u001b[0m                                  Traceback (most recent call last)",
      "File \u001b[0;32m~/anaconda3/envs/ossp1-2401/lib/python3.11/site-packages/pandas/core/indexes/base.py:3805\u001b[0m, in \u001b[0;36mIndex.get_loc\u001b[0;34m(self, key)\u001b[0m\n\u001b[1;32m   3804\u001b[0m \u001b[38;5;28;01mtry\u001b[39;00m:\n\u001b[0;32m-> 3805\u001b[0m     \u001b[38;5;28;01mreturn\u001b[39;00m \u001b[38;5;28;43mself\u001b[39;49m\u001b[38;5;241;43m.\u001b[39;49m\u001b[43m_engine\u001b[49m\u001b[38;5;241;43m.\u001b[39;49m\u001b[43mget_loc\u001b[49m\u001b[43m(\u001b[49m\u001b[43mcasted_key\u001b[49m\u001b[43m)\u001b[49m\n\u001b[1;32m   3806\u001b[0m \u001b[38;5;28;01mexcept\u001b[39;00m \u001b[38;5;167;01mKeyError\u001b[39;00m \u001b[38;5;28;01mas\u001b[39;00m err:\n",
      "File \u001b[0;32mindex.pyx:167\u001b[0m, in \u001b[0;36mpandas._libs.index.IndexEngine.get_loc\u001b[0;34m()\u001b[0m\n",
      "File \u001b[0;32mindex.pyx:196\u001b[0m, in \u001b[0;36mpandas._libs.index.IndexEngine.get_loc\u001b[0;34m()\u001b[0m\n",
      "File \u001b[0;32mpandas/_libs/hashtable_class_helper.pxi:7081\u001b[0m, in \u001b[0;36mpandas._libs.hashtable.PyObjectHashTable.get_item\u001b[0;34m()\u001b[0m\n",
      "File \u001b[0;32mpandas/_libs/hashtable_class_helper.pxi:7089\u001b[0m, in \u001b[0;36mpandas._libs.hashtable.PyObjectHashTable.get_item\u001b[0;34m()\u001b[0m\n",
      "\u001b[0;31mKeyError\u001b[0m: 'Income'",
      "\nThe above exception was the direct cause of the following exception:\n",
      "\u001b[0;31mKeyError\u001b[0m                                  Traceback (most recent call last)",
      "Cell \u001b[0;32mIn[26], line 11\u001b[0m\n\u001b[1;32m      9\u001b[0m \u001b[38;5;66;03m# train 데이터와 test 데이터 각각의 범주의 종류 확인\u001b[39;00m\n\u001b[1;32m     10\u001b[0m \u001b[38;5;28;01mfor\u001b[39;00m col \u001b[38;5;129;01min\u001b[39;00m categorical_columns:\n\u001b[0;32m---> 11\u001b[0m     train_categories \u001b[38;5;241m=\u001b[39m \u001b[38;5;28mset\u001b[39m(\u001b[43mtrain_data\u001b[49m\u001b[43m[\u001b[49m\u001b[43mcol\u001b[49m\u001b[43m]\u001b[49m\u001b[38;5;241m.\u001b[39munique())\n\u001b[1;32m     12\u001b[0m     test_categories \u001b[38;5;241m=\u001b[39m \u001b[38;5;28mset\u001b[39m(test_data[col]\u001b[38;5;241m.\u001b[39munique())\n\u001b[1;32m     14\u001b[0m     \u001b[38;5;66;03m# train 데이터에만 있는 범주를 test 데이터에 추가\u001b[39;00m\n",
      "File \u001b[0;32m~/anaconda3/envs/ossp1-2401/lib/python3.11/site-packages/pandas/core/frame.py:4090\u001b[0m, in \u001b[0;36mDataFrame.__getitem__\u001b[0;34m(self, key)\u001b[0m\n\u001b[1;32m   4088\u001b[0m \u001b[38;5;28;01mif\u001b[39;00m \u001b[38;5;28mself\u001b[39m\u001b[38;5;241m.\u001b[39mcolumns\u001b[38;5;241m.\u001b[39mnlevels \u001b[38;5;241m>\u001b[39m \u001b[38;5;241m1\u001b[39m:\n\u001b[1;32m   4089\u001b[0m     \u001b[38;5;28;01mreturn\u001b[39;00m \u001b[38;5;28mself\u001b[39m\u001b[38;5;241m.\u001b[39m_getitem_multilevel(key)\n\u001b[0;32m-> 4090\u001b[0m indexer \u001b[38;5;241m=\u001b[39m \u001b[38;5;28;43mself\u001b[39;49m\u001b[38;5;241;43m.\u001b[39;49m\u001b[43mcolumns\u001b[49m\u001b[38;5;241;43m.\u001b[39;49m\u001b[43mget_loc\u001b[49m\u001b[43m(\u001b[49m\u001b[43mkey\u001b[49m\u001b[43m)\u001b[49m\n\u001b[1;32m   4091\u001b[0m \u001b[38;5;28;01mif\u001b[39;00m is_integer(indexer):\n\u001b[1;32m   4092\u001b[0m     indexer \u001b[38;5;241m=\u001b[39m [indexer]\n",
      "File \u001b[0;32m~/anaconda3/envs/ossp1-2401/lib/python3.11/site-packages/pandas/core/indexes/base.py:3812\u001b[0m, in \u001b[0;36mIndex.get_loc\u001b[0;34m(self, key)\u001b[0m\n\u001b[1;32m   3807\u001b[0m     \u001b[38;5;28;01mif\u001b[39;00m \u001b[38;5;28misinstance\u001b[39m(casted_key, \u001b[38;5;28mslice\u001b[39m) \u001b[38;5;129;01mor\u001b[39;00m (\n\u001b[1;32m   3808\u001b[0m         \u001b[38;5;28misinstance\u001b[39m(casted_key, abc\u001b[38;5;241m.\u001b[39mIterable)\n\u001b[1;32m   3809\u001b[0m         \u001b[38;5;129;01mand\u001b[39;00m \u001b[38;5;28many\u001b[39m(\u001b[38;5;28misinstance\u001b[39m(x, \u001b[38;5;28mslice\u001b[39m) \u001b[38;5;28;01mfor\u001b[39;00m x \u001b[38;5;129;01min\u001b[39;00m casted_key)\n\u001b[1;32m   3810\u001b[0m     ):\n\u001b[1;32m   3811\u001b[0m         \u001b[38;5;28;01mraise\u001b[39;00m InvalidIndexError(key)\n\u001b[0;32m-> 3812\u001b[0m     \u001b[38;5;28;01mraise\u001b[39;00m \u001b[38;5;167;01mKeyError\u001b[39;00m(key) \u001b[38;5;28;01mfrom\u001b[39;00m \u001b[38;5;21;01merr\u001b[39;00m\n\u001b[1;32m   3813\u001b[0m \u001b[38;5;28;01mexcept\u001b[39;00m \u001b[38;5;167;01mTypeError\u001b[39;00m:\n\u001b[1;32m   3814\u001b[0m     \u001b[38;5;66;03m# If we have a listlike key, _check_indexing_error will raise\u001b[39;00m\n\u001b[1;32m   3815\u001b[0m     \u001b[38;5;66;03m#  InvalidIndexError. Otherwise we fall through and re-raise\u001b[39;00m\n\u001b[1;32m   3816\u001b[0m     \u001b[38;5;66;03m#  the TypeError.\u001b[39;00m\n\u001b[1;32m   3817\u001b[0m     \u001b[38;5;28mself\u001b[39m\u001b[38;5;241m.\u001b[39m_check_indexing_error(key)\n",
      "\u001b[0;31mKeyError\u001b[0m: 'Income'"
     ]
    }
   ],
   "source": [
    "# train 데이터와 test 데이터 불러오기\n",
    "train_data = pd.read_csv('final.csv')\n",
    "train_data=train_data.drop(columns=[\"Income\"])\n",
    "test_data = train_data\n",
    "\n",
    "# 범주형 변수의 열 이름 리스트\n",
    "categorical_columns = ['Age', 'Gender', 'Working_Week (Yearly)', 'Income', 'Education_Status_Associates degree (Academic)', 'Education_Status_Associates degree (Vocational)', 'Education_Status_Baby', 'Education_Status_Bachelors degree', 'Education_Status_College', 'Education_Status_Doctorate degree', 'Education_Status_Elementary(1-6)', 'Education_Status_High', 'Education_Status_High Freshman', 'Education_Status_Masters degree', 'Education_Status_Middle (7-8)', 'Education_Status_Professional degree', 'Employment_Status_Children or Armed Forces', 'Employment_Status_Choice Part-Time', 'Employment_Status_Full-Time', 'Employment_Status_Part-Time (Usually Full-Time)', 'Employment_Status_Part-Time (Usually Part-Time)', 'Employment_Status_Seeking Part-Time', 'Industry_Status_Agriculture', 'Industry_Status_Business & Repair', 'Industry_Status_Communications', 'Industry_Status_Construction', 'Industry_Status_Education', 'Industry_Status_Entertainment', 'Industry_Status_Finance Insurance & Real Estate', 'Industry_Status_Forestry & Fisheries', 'Industry_Status_Hospitals', 'Industry_Status_Manufacturing (Durable)', 'Industry_Status_Manufacturing (Non-durable)', 'Industry_Status_Medical (except Hospitals)', 'Industry_Status_Mining', 'Industry_Status_Not in universe or children', 'Industry_Status_Other professional services', 'Industry_Status_Personal Services (except Private Household)', 'Industry_Status_Private Household Services', 'Industry_Status_Public Administration', 'Industry_Status_Retail', 'Industry_Status_Social Services', 'Industry_Status_Transportation', 'Industry_Status_Utilities & Sanitary', 'Industry_Status_Wholesale', 'Occupation_Status_Admin Support (include Clerical)', 'Occupation_Status_Craft & Repair', 'Occupation_Status_Farming & Forestry & Fishing', 'Occupation_Status_Handlers/Cleaners', 'Occupation_Status_Machine Operators & Inspectors', 'Occupation_Status_Management', 'Occupation_Status_Private Household Services', 'Occupation_Status_Professional', 'Occupation_Status_Protective Services', 'Occupation_Status_Sales', 'Occupation_Status_Services', 'Occupation_Status_Technicians & Support', 'Occupation_Status_Transportation', 'Occupation_Status_Unknown', 'Race_Asian/Pacific', 'Race_Black', 'Race_Native American/Aleut/Eskimo', 'Race_Other', 'Race_White', 'Hispanic_Origin_ All other', 'Hispanic_Origin_ Central or South American', 'Hispanic_Origin_ Chicano', 'Hispanic_Origin_ Cuban', 'Hispanic_Origin_ Do not know', 'Hispanic_Origin_ Mexican (Mexicano)', 'Hispanic_Origin_ Mexican-American', 'Hispanic_Origin_ NA', 'Hispanic_Origin_ Other Spanish', 'Hispanic_Origin_ Puerto Rican', 'Martial_Status_Divorced', 'Martial_Status_Married', 'Martial_Status_Married (Armed Force Spouse)', 'Martial_Status_Married (Spouse Absent)', 'Martial_Status_Separated', 'Martial_Status_Single', 'Martial_Status_Widowed', 'Household_Summary_Child 18 or older', 'Household_Summary_Child under 18 ever married', 'Household_Summary_Child under 18 never married', 'Household_Summary_Group Quarters- Secondary individual', 'Household_Summary_Householder', 'Household_Summary_Nonrelative of householder', 'Household_Summary_Other relative of householder', 'Household_Summary_Spouse of householder', 'Citizenship_Foreign-born (Naturalized US Citizen)', 'Citizenship_Foreign-born (Non-US Citizen)', 'Citizenship_Native', 'Citizenship_Native (Born Abroad)', 'Citizenship_Native (Born in Puerto Rico or US Outlying)', 'Birth_Country_Asia', 'Birth_Country_Europe', 'Birth_Country_North America', 'Birth_Country_South America', 'Birth_Country_US', 'Birth_Country (Father)_Asia', 'Birth_Country (Father)_Europe', 'Birth_Country (Father)_North America', 'Birth_Country (Father)_South America', 'Birth_Country (Father)_US', 'Birth_Country (Mother)_Asia', 'Birth_Country (Mother)_Europe', 'Birth_Country (Mother)_North America', 'Birth_Country (Mother)_South America', 'Birth_Country (Mother)_US', 'Tax_Status_Head of Household (HOH)', 'Tax_Status_Married Filling Jointly both over 65 (MFJ)', 'Tax_Status_Married Filling Jointly both under 65 (MFJ)', 'Tax_Status_Married Filling Jointly one over 65 & one under 65 (MFJ)', 'Tax_Status_Nonfiler', 'Tax_Status_Single'] \n",
    "\n",
    "# train 데이터와 test 데이터 각각의 범주의 종류 확인\n",
    "for col in categorical_columns:\n",
    "    train_categories = set(train_data[col].unique())\n",
    "    test_categories = set(test_data[col].unique())\n",
    "    \n",
    "    # train 데이터에만 있는 범주를 test 데이터에 추가\n",
    "    new_categories = test_categories - train_categories\n",
    "    if new_categories:\n",
    "        print(f\"New categories found in {col} of test data:\", new_categories)\n",
    "        # 새로운 범주를 train 데이터에 있는 범주 중 하나로 대체\n",
    "        test_data[col] = test_data[col].replace(list(new_categories), train_data[col].iloc[0])"
   ]
  },
  {
   "cell_type": "code",
   "execution_count": 32,
   "metadata": {},
   "outputs": [],
   "source": [
    "df_encoded.to_csv(\"TEMPEditedtest.csv\", index=False)"
   ]
  },
  {
   "cell_type": "code",
   "execution_count": null,
   "metadata": {},
   "outputs": [],
   "source": []
  }
 ],
 "metadata": {
  "kernelspec": {
   "display_name": "ossp1-2401",
   "language": "python",
   "name": "python3"
  },
  "language_info": {
   "codemirror_mode": {
    "name": "ipython",
    "version": 3
   },
   "file_extension": ".py",
   "mimetype": "text/x-python",
   "name": "python",
   "nbconvert_exporter": "python",
   "pygments_lexer": "ipython3",
   "version": "3.11.8"
  }
 },
 "nbformat": 4,
 "nbformat_minor": 2
}
